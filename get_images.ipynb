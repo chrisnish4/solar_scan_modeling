{
 "cells": [
  {
   "cell_type": "code",
   "execution_count": 10,
   "metadata": {},
   "outputs": [],
   "source": [
    "from api_keys import *\n",
    "\n",
    "import os\n",
    "import numpy as np\n",
    "import pandas as pd\n",
    "import requests \n",
    "from geopy.geocoders import Nominatim"
   ]
  },
  {
   "cell_type": "code",
   "execution_count": 11,
   "metadata": {},
   "outputs": [],
   "source": [
    "def get_tiles(bounding_box, tiles):\n",
    "    lat_max = bounding_box[3]\n",
    "    lon_max = bounding_box[2]\n",
    "    lat_min = bounding_box[1]\n",
    "    lon_min = bounding_box[0]\n",
    "    \n",
    "    lat_range = lat_max - lat_min\n",
    "    lon_range = lon_max - lon_min\n",
    "    lat_step = lat_range / np.sqrt(tiles)\n",
    "    lon_step = lon_range / np.sqrt(tiles)\n",
    "\n",
    "    tile_coords = list()\n",
    "\n",
    "    for i in range(tiles):\n",
    "        for j in range(tiles):\n",
    "            tile_lat_min = lat_min + i*lat_step\n",
    "            tile_lon_min = lon_min + j*lon_step\n",
    "            tile_lat_max = tile_lat_min + lat_step\n",
    "            tile_lon_max = tile_lon_min + lon_step\n",
    "\n",
    "            tile_coords.append([tile_lon_min, tile_lat_min, tile_lon_max, tile_lat_max])\n",
    "    return tile_coords"
   ]
  },
  {
   "cell_type": "code",
   "execution_count": 16,
   "metadata": {},
   "outputs": [],
   "source": [
    "def get_image(tile_coords):\n",
    "    with open(f\"data/tile_coords.csv\", 'w') as coord_file:\n",
    "        coord_file.write('image_name, min_lon, min_lat, max_lon, max_lat\\n')\n",
    "\n",
    "    for idx, bb in enumerate(tile_coords):\n",
    "        api_url = f\"https://api.mapbox.com/styles/v1/mapbox/satellite-v9/static/{bb}/1024x1024?access_token={MAPBOX_KEY}\"\n",
    "        response = requests.get(api_url)\n",
    "\n",
    "        if response.status_code == 200:\n",
    "            with open(f\"beta_area/img_{idx:02.0f}.jpeg\", \"wb\") as file:\n",
    "                file.write(response.content)\n",
    "            with open(f\"beta_area/tile_coords.csv\", 'a') as coord_file:\n",
    "                coord_file.write(f\"img_{idx:02.0f}, {bb[0]},{bb[1]},{bb[2]},{bb[3]}\\n\")\n",
    "        else:\n",
    "            print(f\"Failed to save tile {idx}\")"
   ]
  },
  {
   "cell_type": "code",
   "execution_count": 17,
   "metadata": {},
   "outputs": [],
   "source": [
    "min_lon = -121.806611 #121°48'23.8\"W\n",
    "min_lat = 37.231278 #37°13'52.6\"N\n",
    "max_lon = -121.804028 #121°48'14.5\"W\n",
    "max_lat = 37.232833 #37°13'58.2\"N\n",
    "\n",
    "beta_area = [min_lon, min_lat, max_lon, max_lat]"
   ]
  },
  {
   "cell_type": "code",
   "execution_count": 18,
   "metadata": {},
   "outputs": [],
   "source": [
    "coords = get_tiles(beta_area, 10)"
   ]
  },
  {
   "cell_type": "code",
   "execution_count": 21,
   "metadata": {},
   "outputs": [
    {
     "data": {
      "text/plain": [
       "[[-121.806611, 37.231278, -121.80579418368038, 37.23176973417616],\n",
       " [-121.80579418368038, 37.231278, -121.80497736736075, 37.23176973417616],\n",
       " [-121.80497736736076, 37.231278, -121.80416055104114, 37.23176973417616],\n",
       " [-121.80416055104114, 37.231278, -121.80334373472151, 37.23176973417616],\n",
       " [-121.80334373472152, 37.231278, -121.8025269184019, 37.23176973417616]]"
      ]
     },
     "execution_count": 21,
     "metadata": {},
     "output_type": "execute_result"
    }
   ],
   "source": [
    "coords[:5]"
   ]
  },
  {
   "cell_type": "code",
   "execution_count": null,
   "metadata": {},
   "outputs": [],
   "source": []
  },
  {
   "cell_type": "code",
   "execution_count": 19,
   "metadata": {},
   "outputs": [],
   "source": [
    "get_image(coords)"
   ]
  },
  {
   "cell_type": "code",
   "execution_count": null,
   "metadata": {},
   "outputs": [],
   "source": []
  }
 ],
 "metadata": {
  "kernelspec": {
   "display_name": "solar_scan",
   "language": "python",
   "name": "python3"
  },
  "language_info": {
   "codemirror_mode": {
    "name": "ipython",
    "version": 3
   },
   "file_extension": ".py",
   "mimetype": "text/x-python",
   "name": "python",
   "nbconvert_exporter": "python",
   "pygments_lexer": "ipython3",
   "version": "3.12.3"
  }
 },
 "nbformat": 4,
 "nbformat_minor": 2
}
